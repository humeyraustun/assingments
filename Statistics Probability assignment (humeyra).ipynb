{
 "cells": [
  {
   "cell_type": "code",
   "execution_count": 1,
   "id": "55590871",
   "metadata": {},
   "outputs": [],
   "source": [
    "import numpy as np\n",
    "import pandas as pd\n",
    "from scipy import stats\n",
    "import matplotlib.pyplot as plt"
   ]
  },
  {
   "cell_type": "markdown",
   "id": "b01a249d",
   "metadata": {},
   "source": [
    "EXERCISE 1.\n",
    "Answer the following questions by looking at the distribution table or coding with Python.\n",
    "\n",
    "A salesperson has found that the probability of a sale on a single contact is approximately .03. If the salesperson contacts 100 prospects, what is the approximate probability of making at least one sale? (Wackerly, Ex.3.135)"
   ]
  },
  {
   "cell_type": "code",
   "execution_count": 2,
   "id": "8a5f9a92",
   "metadata": {},
   "outputs": [
    {
     "data": {
      "text/plain": [
       "0.9524474920745943"
      ]
     },
     "execution_count": 2,
     "metadata": {},
     "output_type": "execute_result"
    }
   ],
   "source": [
    "x = 0\n",
    "n = 100\n",
    "p = .03\n",
    "\n",
    "\n",
    "1- stats.binom.cdf(x, n, p)"
   ]
  },
  {
   "cell_type": "markdown",
   "id": "eb858a45",
   "metadata": {},
   "source": [
    "Ten coins are tossed simultaneously. Find the probability of getting\n",
    "(i) at least seven heads"
   ]
  },
  {
   "cell_type": "code",
   "execution_count": 3,
   "id": "316badbd",
   "metadata": {},
   "outputs": [
    {
     "data": {
      "text/plain": [
       "0.171875"
      ]
     },
     "execution_count": 3,
     "metadata": {},
     "output_type": "execute_result"
    }
   ],
   "source": [
    "x = 6\n",
    "n = 10\n",
    "p = .5\n",
    "\n",
    "1- stats.binom.cdf (x ,n ,p)\n"
   ]
  },
  {
   "cell_type": "markdown",
   "id": "f9d733a7",
   "metadata": {},
   "source": [
    "(ii) exactly seven heads"
   ]
  },
  {
   "cell_type": "code",
   "execution_count": 4,
   "id": "73d86500",
   "metadata": {},
   "outputs": [
    {
     "data": {
      "text/plain": [
       "0.11718750000000014"
      ]
     },
     "execution_count": 4,
     "metadata": {},
     "output_type": "execute_result"
    }
   ],
   "source": [
    "x = 7\n",
    "stats.binom.pmf (x, n, p)"
   ]
  },
  {
   "cell_type": "markdown",
   "id": "7d7eacec",
   "metadata": {},
   "source": [
    "(iii)at most seven heads"
   ]
  },
  {
   "cell_type": "code",
   "execution_count": 5,
   "id": "4a669094",
   "metadata": {},
   "outputs": [
    {
     "data": {
      "text/plain": [
       "0.9453125"
      ]
     },
     "execution_count": 5,
     "metadata": {},
     "output_type": "execute_result"
    }
   ],
   "source": [
    "stats.binom.cdf(x, n, p)"
   ]
  },
  {
   "cell_type": "markdown",
   "id": "3035b6de",
   "metadata": {},
   "source": [
    "EXERCISE 2.\n",
    "The cycle time for trucks hauling concrete to a highway construction site is uniformly distributed over the interval 50 to 70 minutes. What is the probability that the cycle time exceeds 65 minutes if it is known that the cycle time exceeds 55 minutes? (Wackerly, Ex.4.51)"
   ]
  },
  {
   "cell_type": "code",
   "execution_count": 9,
   "id": "e6cac45c",
   "metadata": {},
   "outputs": [
    {
     "data": {
      "text/plain": [
       "0.25"
      ]
     },
     "execution_count": 9,
     "metadata": {},
     "output_type": "execute_result"
    }
   ],
   "source": [
    "a = 50\n",
    "b = 70\n",
    "\n",
    "Dist = stats.uniform(a,b-a)\n",
    "\n",
    "p1=1-Dist.cdf(65)\n",
    "p1"
   ]
  },
  {
   "cell_type": "code",
   "execution_count": 12,
   "id": "d3ce9a86",
   "metadata": {},
   "outputs": [
    {
     "data": {
      "text/plain": [
       "0.75"
      ]
     },
     "execution_count": 12,
     "metadata": {},
     "output_type": "execute_result"
    }
   ],
   "source": [
    "p2 = 1-Dist.cdf(55) \n",
    "p2"
   ]
  },
  {
   "cell_type": "markdown",
   "id": "1c124bec",
   "metadata": {},
   "source": [
    "p(A | B ) = p(A n B)/p( B )\n",
    "p(A n B) = p( A ) "
   ]
  },
  {
   "cell_type": "code",
   "execution_count": 16,
   "id": "3b7bd5ef",
   "metadata": {},
   "outputs": [
    {
     "name": "stdout",
     "output_type": "stream",
     "text": [
      "p(1 | 2 ):  0.3333333333333333\n"
     ]
    }
   ],
   "source": [
    "p12=p1/p2\n",
    "print(\"p(1 | 2 ): \", p12)"
   ]
  },
  {
   "cell_type": "markdown",
   "id": "1a2fd8d5",
   "metadata": {},
   "source": [
    "EXERCISE 3. \n",
    "The width of bolts of fabric is normally distributed with mean 950 mm (millimeters) and standard deviation 10 mm.\n",
    "\n",
    "\n",
    "What is the probability that a randomly chosen bolt has a width of between 947 and 958mm?"
   ]
  },
  {
   "cell_type": "code",
   "execution_count": 17,
   "id": "c03b295d",
   "metadata": {},
   "outputs": [
    {
     "data": {
      "text/plain": [
       "0.406056023605556"
      ]
     },
     "execution_count": 17,
     "metadata": {},
     "output_type": "execute_result"
    }
   ],
   "source": [
    "mu = 950\n",
    "sigma = 10 \n",
    "\n",
    "stats.norm.cdf(958, mu , sigma) - stats. norm. cdf ( 947, mu, sigma)"
   ]
  },
  {
   "cell_type": "markdown",
   "id": "6d72a45e",
   "metadata": {},
   "source": [
    "What is the appropriate value for C such that a randomly chosen bolt has a width less than C with probability .8531? (Wackerly, Ex.4.73)\n"
   ]
  },
  {
   "cell_type": "code",
   "execution_count": 20,
   "id": "3395b99c",
   "metadata": {},
   "outputs": [
    {
     "data": {
      "text/plain": [
       "960.4982190962642"
      ]
     },
     "execution_count": 20,
     "metadata": {},
     "output_type": "execute_result"
    }
   ],
   "source": [
    "stats.norm.ppf(.8531, mu, sigma)"
   ]
  },
  {
   "cell_type": "markdown",
   "id": "ef147755",
   "metadata": {},
   "source": [
    "EXERCISE 4. \n",
    "Suppose scores on exams in statistics are normally distributed with an unknown population mean and a population standard deviation of 3 points. A random sample of 36 scores is taken and gives a sample mean (sample mean score) of 68. Find a confidence interval estimate for the population mean exam score (the mean score on all exams). Find a 90% confidence interval for the true (population) mean of statistics exam scores.\n"
   ]
  },
  {
   "cell_type": "code",
   "execution_count": 21,
   "id": "5fa62f2f",
   "metadata": {},
   "outputs": [
    {
     "data": {
      "text/plain": [
       "(67.17757318652427, 68.82242681347573)"
      ]
     },
     "execution_count": 21,
     "metadata": {},
     "output_type": "execute_result"
    }
   ],
   "source": [
    "sigma = 3 \n",
    "n = 36\n",
    "\n",
    "stats.norm.interval(alpha = .90, loc = 68, scale = sigma/ np.sqrt (n))"
   ]
  },
  {
   "cell_type": "markdown",
   "id": "b39450d4",
   "metadata": {},
   "source": [
    "EXERCISE 5.  \n",
    "What is the normal body temperature for healthy humans? A random sample of 130 healthy human body temperatures provided by Allen Shoemaker yielded 98.25 degrees and standard deviation 0.73 degrees.\n",
    "\n",
    "Give a 99% confidence interval for the average body temperature of healthy people.\n",
    "\n"
   ]
  },
  {
   "cell_type": "code",
   "execution_count": 22,
   "id": "09022eb6",
   "metadata": {},
   "outputs": [
    {
     "data": {
      "text/plain": [
       "(98.08508192246582, 98.41491807753418)"
      ]
     },
     "execution_count": 22,
     "metadata": {},
     "output_type": "execute_result"
    }
   ],
   "source": [
    "n = 130\n",
    "sigma = .73\n",
    "\n",
    "stats.norm.interval ( alpha = .99, loc = 98.25, scale = sigma / np. sqrt (n))"
   ]
  },
  {
   "cell_type": "markdown",
   "id": "7b91c584",
   "metadata": {},
   "source": [
    "Does the confidence interval obtained in part (a) contain the value 98.6 degrees, the accepted average temperature cited by physicians and others? What conclusions can you draw? (Wackerly, Ex.8.60)"
   ]
  },
  {
   "cell_type": "markdown",
   "id": "c45aeb62",
   "metadata": {},
   "source": [
    "Standard deviation is no longer valid, because the degree is not in the interval. "
   ]
  }
 ],
 "metadata": {
  "kernelspec": {
   "display_name": "Python 3",
   "language": "python",
   "name": "python3"
  },
  "language_info": {
   "codemirror_mode": {
    "name": "ipython",
    "version": 3
   },
   "file_extension": ".py",
   "mimetype": "text/x-python",
   "name": "python",
   "nbconvert_exporter": "python",
   "pygments_lexer": "ipython3",
   "version": "3.8.8"
  }
 },
 "nbformat": 4,
 "nbformat_minor": 5
}
